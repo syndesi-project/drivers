{
 "cells": [
  {
   "cell_type": "code",
   "execution_count": 1,
   "metadata": {},
   "outputs": [],
   "source": [
    "from importlib import reload\n",
    "from syndesi import SerialPort\n",
    "from syndesi_drivers.microscopes import microqubic_mrcl700\n",
    "from syndesi import set_log_level"
   ]
  },
  {
   "cell_type": "code",
   "execution_count": 2,
   "metadata": {},
   "outputs": [],
   "source": [
    "set_log_level('ERROR')\n",
    "reload(microqubic_mrcl700)\n",
    "\n",
    "m = microqubic_mrcl700.MicroqubicMrcl700(SerialPort('/dev/ttyUSB0', baudrate=56000))"
   ]
  },
  {
   "cell_type": "code",
   "execution_count": 3,
   "metadata": {},
   "outputs": [
    {
     "name": "stdout",
     "output_type": "stream",
     "text": [
      "Parsing \"$*5\" ...Fail, put in the queue\n",
      "Parsing \"R:R360,0.0,0,1\" ...->Status 0.0\n",
      "Success : R\n",
      "Parsing \"R:R360,0.0,0,1\" ...->Status 0.0\n",
      "Success : R\n",
      "Parsing \"A:T700A,0.2\" ...Fail, put in the queue\n",
      "Parsing \"B:T700B,0.0\" ...Fail, put in the queue\n",
      "Parsing \"A:T700A,0.3\" ...Fail, put in the queue\n",
      "Parsing \"B:T700B,0.1\" ...Fail, put in the queue\n"
     ]
    }
   ],
   "source": [
    "m.auto_home()"
   ]
  },
  {
   "cell_type": "code",
   "execution_count": 4,
   "metadata": {},
   "outputs": [
    {
     "name": "stdout",
     "output_type": "stream",
     "text": [
      "Parsing \"$A6\" ...Fail, put in the queue\n",
      "Parsing \"A:T700A,0.1\" ...Fail, put in the queue\n",
      "response : $A6\n",
      "Waiting for data...\n",
      "data : A:T700A,0.1\n"
     ]
    },
    {
     "data": {
      "text/plain": [
       "0.1"
      ]
     },
     "execution_count": 4,
     "metadata": {},
     "output_type": "execute_result"
    }
   ],
   "source": [
    "m.A.get_position()"
   ]
  },
  {
   "cell_type": "code",
   "execution_count": 6,
   "metadata": {},
   "outputs": [
    {
     "name": "stdout",
     "output_type": "stream",
     "text": [
      "Parsing \"$B3,100,45.000\" ...Fail, put in the queue\n",
      "Parsing \"A:T700A,0.1\" ...Fail, put in the queue\n",
      "Parsing \"B:T700B,45.0\" ...Fail, put in the queue\n",
      "Parsing \"A:T700A,0.1\" ...Fail, put in the queue\n",
      "Parsing \"B:T700B,45.0\" ...Fail, put in the queue\n"
     ]
    }
   ],
   "source": [
    "m.B.move_absolute(100, 45)"
   ]
  },
  {
   "cell_type": "code",
   "execution_count": 52,
   "metadata": {},
   "outputs": [
    {
     "name": "stdout",
     "output_type": "stream",
     "text": [
      "Parsing \"A:T700A,0.0\" ...Fail, put in the queue\n",
      "Parsing \"B:T700B,45.0\" ...Fail, put in the queue\n",
      "Parsing \"A:T700A,0.1\" ...Fail, put in the queue\n",
      "Parsing \"B:T700B,45.0\" ...Fail, put in the queue\n",
      "Parsing \"$B6\" ...Fail, put in the queue\n",
      "response : $B6\n",
      "Parsing \"B:T700B,45.0\" ...Fail, put in the queue\n",
      "data : B:T700B,45.0\n"
     ]
    },
    {
     "data": {
      "text/plain": [
       "45.0"
      ]
     },
     "execution_count": 52,
     "metadata": {},
     "output_type": "execute_result"
    }
   ],
   "source": [
    "m.B.get_position()"
   ]
  },
  {
   "cell_type": "code",
   "execution_count": 11,
   "metadata": {},
   "outputs": [
    {
     "name": "stdout",
     "output_type": "stream",
     "text": [
      "Getting positions...\n",
      "Parsing \"$A6\" ...Fail, put in the queue\n",
      "Parsing \"A:T700A,0.0\" ...Fail, put in the queue\n",
      "response : $A6\n",
      "Waiting for data...\n",
      "data : A:T700A,0.0\n",
      "Parsing \"$B6\" ...Fail, put in the queue\n",
      "response : $B6\n",
      "Waiting for data...\n",
      "Parsing \"B:T700B,0.1\" ...Fail, put in the queue\n",
      "data : B:T700B,0.1\n",
      "Times : {'A': 9.25, 'B': 8.855277777777777}\n"
     ]
    },
    {
     "name": "stdout",
     "output_type": "stream",
     "text": [
      "Parsing \"$A3,100,45.000\" ...Fail, put in the queue\n",
      "Parsing \"$B3,96,45.000\" ...Fail, put in the queue\n",
      "Parsing \"A:T700A,44.9\" ...Fail, put in the queue\n",
      "Parsing \"B:T700B,45.0\" ...Fail, put in the queue\n",
      "Parsing \"A:T700A,44.9\" ...Fail, put in the queue\n",
      "Parsing \"B:T700B,45.0\" ...Fail, put in the queue\n"
     ]
    }
   ],
   "source": [
    "#set_log_level('DEBUG')\n",
    "\n",
    "m.move_absolute({\n",
    "    'A' : (45, 100),\n",
    "    'B' : (45, 100)\n",
    "}, sync=True)"
   ]
  },
  {
   "cell_type": "code",
   "execution_count": 10,
   "metadata": {},
   "outputs": [
    {
     "name": "stdout",
     "output_type": "stream",
     "text": [
      "Getting positions...\n",
      "Parsing \"$A6\" ...Fail, put in the queue\n",
      "Parsing \"A:T700A,44.9\" ...Fail, put in the queue\n",
      "response : $A6\n",
      "Waiting for data...\n",
      "data : A:T700A,44.9\n",
      "Parsing \"$B6\" ...Fail, put in the queue\n",
      "response : $B6\n",
      "Waiting for data...\n",
      "Parsing \"B:T700B,45.0\" ...Fail, put in the queue\n",
      "data : B:T700B,45.0\n",
      "Times : {'A': -9.229444444444445, 'B': -8.875}\n"
     ]
    },
    {
     "name": "stdout",
     "output_type": "stream",
     "text": [
      "Parsing \"$A3,100,0.000\" ...Fail, put in the queue\n",
      "Parsing \"$B3,30,0.000\" ...Fail, put in the queue\n",
      "Parsing \"A:T700A,0.2\" ...Fail, put in the queue\n",
      "Parsing \"B:T700B,0.1\" ...Fail, put in the queue\n",
      "Parsing \"A:T700A,0.1\" ...Fail, put in the queue\n",
      "Parsing \"B:T700B,0.1\" ...Fail, put in the queue\n"
     ]
    }
   ],
   "source": [
    "m.move_absolute({\n",
    "    'A' : (0, 100),\n",
    "    'B' : (0, 30)\n",
    "})"
   ]
  },
  {
   "cell_type": "code",
   "execution_count": 5,
   "metadata": {},
   "outputs": [
    {
     "name": "stdout",
     "output_type": "stream",
     "text": [
      "Parsing \"$a5\" ...Fail, put in the queue\n"
     ]
    },
    {
     "ename": "NameError",
     "evalue": "name 'response' is not defined",
     "output_type": "error",
     "traceback": [
      "\u001b[0;31m---------------------------------------------------------------------------\u001b[0m",
      "\u001b[0;31mNameError\u001b[0m                                 Traceback (most recent call last)",
      "Cell \u001b[0;32mIn[5], line 1\u001b[0m\n\u001b[0;32m----> 1\u001b[0m m\u001b[39m.\u001b[39mmatrix_illumination\u001b[39m.\u001b[39mdisable_all_columns()\n",
      "File \u001b[0;32m~/Documents/Projets/Syndesi/Drivers/Python/syndesi_drivers/microscopes/microqubic_mrcl700.py:462\u001b[0m, in \u001b[0;36mMatrixIllumination.disable_all_columns\u001b[0;34m(self)\u001b[0m\n\u001b[1;32m    459\u001b[0m query \u001b[39m=\u001b[39m \u001b[39m'\u001b[39m\u001b[39m$a5\u001b[39m\u001b[39m'\u001b[39m\n\u001b[1;32m    460\u001b[0m \u001b[39mself\u001b[39m\u001b[39m.\u001b[39m_prot\u001b[39m.\u001b[39mwrite(query)\n\u001b[0;32m--> 462\u001b[0m _check_response(query, response)\n",
      "\u001b[0;31mNameError\u001b[0m: name 'response' is not defined"
     ]
    }
   ],
   "source": [
    "m.matrix_illumination.disable_all_columns()"
   ]
  }
 ],
 "metadata": {
  "kernelspec": {
   "display_name": "Python 3.11.3 ('python')",
   "language": "python",
   "name": "python3"
  },
  "language_info": {
   "codemirror_mode": {
    "name": "ipython",
    "version": 3
   },
   "file_extension": ".py",
   "mimetype": "text/x-python",
   "name": "python",
   "nbconvert_exporter": "python",
   "pygments_lexer": "ipython3",
   "version": "3.11.3"
  },
  "orig_nbformat": 4,
  "vscode": {
   "interpreter": {
    "hash": "b19039b57ab408a75ec292626f0bb4d90d49370d48dc224113c676678d72d8bd"
   }
  }
 },
 "nbformat": 4,
 "nbformat_minor": 2
}
